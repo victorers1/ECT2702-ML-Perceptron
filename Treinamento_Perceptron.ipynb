{
  "nbformat": 4,
  "nbformat_minor": 0,
  "metadata": {
    "colab": {
      "name": "Treinamento Perceptron.ipynb",
      "provenance": [],
      "collapsed_sections": []
    },
    "kernelspec": {
      "name": "python3",
      "display_name": "Python 3"
    }
  },
  "cells": [
    {
      "cell_type": "markdown",
      "metadata": {
        "id": "OEgSayQNBuaZ"
      },
      "source": [
        "# Desafio\n",
        "\n",
        "Treinar um perceptron para que apresenta saída conforme a tabela a seguir:\n",
        "\n",
        "| Entrada |Saída|\n",
        "|---------|----|\n",
        "| (0,0)   | 1  |\n",
        "| (0,1)   | 1  |\n",
        "| (1,0)   | -1 |\n",
        "| (-1,-1) | -1 |\n"
      ]
    },
    {
      "cell_type": "code",
      "metadata": {
        "id": "1Ido53gjUaie"
      },
      "source": [
        "# Dados iniciais\n",
        "import numpy as np \n",
        "# Base de dados\n",
        "# Classe 1 \n",
        "P00 = np.array( [0, 0] )\n",
        "P01 = np.array( [0, 1] )\n",
        "\n",
        "# Classe -1\n",
        "P10 = np.array( [1, 0] )\n",
        "P11 = np.array( [-1, -1] )\n",
        "\n",
        "# Pesos iniciais \n",
        "Pesos = np.array( [0.4, 0.4] ) \n",
        "# Taxa de aprendizagem \n",
        "eta = 0.5\n",
        "# Viés\n",
        "vies = 0.5"
      ],
      "execution_count": 35,
      "outputs": []
    },
    {
      "cell_type": "code",
      "metadata": {
        "id": "t4fKfn8lU7Ja"
      },
      "source": [
        "# Função para a soma ponderada \n",
        "# u = x0*w0 +  x1*w1 + x2*w2 -1*θ \n",
        "# m = x0*w0 +  x1*w1 + x2*w2\n",
        "# u = m -1*θ\n",
        "def weightedSum(X,W, bias):\n",
        "  m = np.multiply(X,W)\n",
        "  u = np.sum(m) -1*bias\n",
        "  return u "
      ],
      "execution_count": 36,
      "outputs": []
    },
    {
      "cell_type": "code",
      "metadata": {
        "id": "w7WOi5KzXkgd"
      },
      "source": [
        "# Função de ativação \n",
        "# Função Degrau \n",
        "def activationFunction(u):\n",
        "  if u >= 0:\n",
        "    return 1\n",
        "  else:\n",
        "    return -1"
      ],
      "execution_count": 37,
      "outputs": []
    },
    {
      "cell_type": "code",
      "metadata": {
        "id": "Lh67wy0zbO2-"
      },
      "source": [
        "# Função de saída do perceptron\n",
        "def output(X,W,bias):\n",
        "  u = weightedSum(X,W,bias)\n",
        "  return activationFunction(u) \n"
      ],
      "execution_count": 38,
      "outputs": []
    },
    {
      "cell_type": "code",
      "metadata": {
        "id": "6iWXanLKX_On"
      },
      "source": [
        "# Função para ajustes dos pesos\n",
        "# Parte central do processo de aprendizagem \n",
        "# novo wi  →  wi = wi +  η xi (d - y ) \n",
        "def adjustWeights(eta,W,X,bias,d,y):\n",
        "  e = d - y \n",
        "  newW = W + eta*X*e\n",
        "  newB = bias + -1*eta*e \n",
        "  return newW, newB  \n"
      ],
      "execution_count": 39,
      "outputs": []
    },
    {
      "cell_type": "code",
      "metadata": {
        "id": "o7THjhm-Q5-I"
      },
      "source": [
        ""
      ],
      "execution_count": 39,
      "outputs": []
    },
    {
      "cell_type": "markdown",
      "metadata": {
        "id": "qA-B_GxjapSI"
      },
      "source": [
        "# Treinamento\n",
        "\n",
        "* Apresenta uma entrada e calcula a saída de maneira iterativa "
      ]
    },
    {
      "cell_type": "code",
      "metadata": {
        "id": "tOW9KVOaUu4r"
      },
      "source": [
        "def iteration(Weights, Input, bias, eta, d):\r\n",
        "  y = output(Input, Weights, bias)\r\n",
        "  Weights, bias = adjustWeights(eta, Weights, Input, bias, d, y)\r\n",
        "\r\n",
        "  print('y: ' + str(y))\r\n",
        "  print('Weights: ' + str(Weights))\r\n",
        "  print('bias: ' + str(bias))\r\n",
        "\r\n",
        "  return Weights, bias"
      ],
      "execution_count": 40,
      "outputs": []
    },
    {
      "cell_type": "markdown",
      "metadata": {
        "id": "aXMmJejqd6RZ"
      },
      "source": [
        "## Iteração 1"
      ]
    },
    {
      "cell_type": "code",
      "metadata": {
        "id": "Ly-ULZCTaYSu",
        "colab": {
          "base_uri": "https://localhost:8080/"
        },
        "outputId": "65d42b9d-a222-4108-8dec-7ef148859a51"
      },
      "source": [
        "# Entrada (0,0) saída 1 \n",
        "Pesos, vies = iteration(Weights=Pesos, Input=P00, bias=vies, eta=eta, d = 1)\n",
        "\n",
        "# Entrada (1,0) saída -1 \n",
        "Pesos, vies = iteration(Weights=Pesos, Input=P10, bias=vies, eta=eta, d = -1)\n",
        "\n",
        "# Entrada (0,1) saída 1 \n",
        "Pesos, vies = iteration(Weights=Pesos, Input=P01, bias=vies, eta=eta, d = 1)\n",
        "\n",
        "# Entrada (-1,-1) saída -1 \n",
        "Pesos, vies = iteration(Weights=Pesos, Input=P11, bias=vies, eta=eta, d = -1)\n"
      ],
      "execution_count": 41,
      "outputs": [
        {
          "output_type": "stream",
          "text": [
            "y: -1\n",
            "Weights: [0.4 0.4]\n",
            "bias: -0.5\n",
            "y: 1\n",
            "Weights: [-0.6  0.4]\n",
            "bias: 0.5\n",
            "y: -1\n",
            "Weights: [-0.6  1.4]\n",
            "bias: -0.5\n",
            "y: -1\n",
            "Weights: [-0.6  1.4]\n",
            "bias: -0.5\n"
          ],
          "name": "stdout"
        }
      ]
    },
    {
      "cell_type": "markdown",
      "metadata": {
        "id": "3JF0Tv1Qe2ig"
      },
      "source": [
        "# Teste"
      ]
    },
    {
      "cell_type": "code",
      "metadata": {
        "id": "ZymsxG1XXbsH",
        "colab": {
          "base_uri": "https://localhost:8080/"
        },
        "outputId": "c9a6e935-d5b9-4e20-fe5d-8737d0d62e88"
      },
      "source": [
        "\n",
        "print(\"Saida para \", P00,\" é \", output(P00, Pesos,vies))\n",
        "print(\"Saida para \", P01,\" é \", output(P01, Pesos,vies))\n",
        "print(\"Saida para \", P10,\" é \", output(P10, Pesos,vies))\n",
        "print(\"Saida para \", P11,\" é \", output(P11, Pesos,vies))"
      ],
      "execution_count": 42,
      "outputs": [
        {
          "output_type": "stream",
          "text": [
            "Saida para  [0 0]  é  1\n",
            "Saida para  [0 1]  é  1\n",
            "Saida para  [1 0]  é  -1\n",
            "Saida para  [-1 -1]  é  -1\n"
          ],
          "name": "stdout"
        }
      ]
    },
    {
      "cell_type": "markdown",
      "metadata": {
        "id": "vk0WpzWyeee0"
      },
      "source": [
        "# Conclusão\r\n",
        "\r\n",
        "Após uma iteração o perceptron ajustou-se de forma que retornasse a saída desejada. \r\n",
        "Este resultado foi possível ajustando arbitrariamente os parâmetros do perceptron: pesos iniciais, vies e eta.\r\n"
      ]
    },
    {
      "cell_type": "code",
      "metadata": {
        "id": "V5Aj-wn-hYmP"
      },
      "source": [
        ""
      ],
      "execution_count": null,
      "outputs": []
    }
  ]
}